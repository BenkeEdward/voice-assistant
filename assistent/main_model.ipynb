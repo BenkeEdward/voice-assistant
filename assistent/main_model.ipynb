{
 "cells": [
  {
   "cell_type": "markdown",
   "id": "61fb9398",
   "metadata": {},
   "source": [
    "the libs we would need(also I'll use whisper medium cuz my pc is not very powerful._.)"
   ]
  },
  {
   "cell_type": "code",
   "execution_count": null,
   "id": "cdb5cd77",
   "metadata": {},
   "outputs": [],
   "source": [
    "from transformers import AutoTokenizer, AutoModelForCausalLM,AutoModelForSeq2SeqLM\n",
    "\n"
   ]
  },
  {
   "cell_type": "markdown",
   "id": "7ef43c2e",
   "metadata": {},
   "source": [
    "now lets load our models, tokinizators, and other stuff"
   ]
  },
  {
   "cell_type": "code",
   "execution_count": null,
   "id": "c1a061c8",
   "metadata": {},
   "outputs": [],
   "source": [
    "tokenizer_for_phi3_mini = AutoTokenizer.from_pretrained(\"microsoft/Phi-3-mini-4k-instruct\", trust_remote_code=True)\n",
    "phi3_mini = AutoModelForCausalLM.from_pretrained(\"microsoft/Phi-3-mini-4k-instruct\", trust_remote_code=True)\n",
    "\n"
   ]
  },
  {
   "cell_type": "markdown",
   "id": "5d41454f",
   "metadata": {},
   "source": [
    "our translating models and theirs tokenizators(I'll use helsinki)"
   ]
  },
  {
   "cell_type": "code",
   "execution_count": null,
   "id": "b65830bd",
   "metadata": {},
   "outputs": [],
   "source": [
    "tokenizer_for_helsinki_ru_en = AutoTokenizer.from_pretrained(\"Helsinki-NLP/opus-mt-ru-en\")\n",
    "helsinki_ru_en = AutoModelForSeq2SeqLM.from_pretrained(\"Helsinki-NLP/opus-mt-ru-en\")\n",
    "\n",
    "tokenizer_for_helsinki_en_ru = AutoTokenizer.from_pretrained(\"Helsinki-NLP/opus-mt-en-ru\")\n",
    "helsinki_en_ru = AutoModelForSeq2SeqLM.from_pretrained(\"Helsinki-NLP/opus-mt-en-ru\")\n",
    "\n",
    "tokenizer_for_helsinki_de_en = AutoTokenizer.from_pretrained(\"Helsinki-NLP/opus-mt-de-en\")\n",
    "helsinki_de_en = AutoModelForSeq2SeqLM.from_pretrained(\"Helsinki-NLP/opus-mt-de-en\")\n",
    "\n",
    "tokenizer_for_helsinki_en_de = AutoTokenizer.from_pretrained(\"Helsinki-NLP/opus-mt-en-de\")\n",
    "helsinki_en_de = AutoModelForSeq2SeqLM.from_pretrained(\"Helsinki-NLP/opus-mt-en-de\")"
   ]
  }
 ],
 "metadata": {
  "kernelspec": {
   "display_name": ".venv",
   "language": "python",
   "name": "python3"
  },
  "language_info": {
   "codemirror_mode": {
    "name": "ipython",
    "version": 3
   },
   "file_extension": ".py",
   "mimetype": "text/x-python",
   "name": "python",
   "nbconvert_exporter": "python",
   "pygments_lexer": "ipython3",
   "version": "3.11.0"
  }
 },
 "nbformat": 4,
 "nbformat_minor": 5
}
