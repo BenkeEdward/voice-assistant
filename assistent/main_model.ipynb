{
 "cells": [
  {
   "cell_type": "markdown",
   "id": "61fb9398",
   "metadata": {},
   "source": [
    "the libs we would need(also I'll use whisper medium cuz my pc is not very powerful._.)"
   ]
  },
  {
   "cell_type": "code",
   "execution_count": null,
   "id": "cdb5cd77",
   "metadata": {},
   "outputs": [],
   "source": []
  }
 ],
 "metadata": {
  "kernelspec": {
   "display_name": ".venv",
   "language": "python",
   "name": "python3"
  },
  "language_info": {
   "name": "python",
   "version": "3.11.0"
  }
 },
 "nbformat": 4,
 "nbformat_minor": 5
}
