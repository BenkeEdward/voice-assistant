{
 "cells": [
  {
   "cell_type": "markdown",
   "id": "5ec322bf",
   "metadata": {},
   "source": [
    "lets load all needed libs for extract audio from user"
   ]
  },
  {
   "cell_type": "code",
   "execution_count": null,
   "id": "28e18daf",
   "metadata": {},
   "outputs": [],
   "source": [
    "import wavio\n",
    "import os\n",
    "import keyboard\n",
    "import sounddevice as sd\n",
    "import numpy as np"
   ]
  },
  {
   "cell_type": "markdown",
   "id": "29e03869",
   "metadata": {},
   "source": [
    "Constants for our use"
   ]
  },
  {
   "cell_type": "code",
   "execution_count": null,
   "id": "9794c7a3",
   "metadata": {},
   "outputs": [],
   "source": [
    "FS = 4410 #this a number of samples(optimal amount of hz)\n",
    "CHANNELS = 1 #amount of channels we will take users voice\n",
    "BLOCKSIZE = 1024\n",
    "DTYPE = 'float32' #type we'll use"
   ]
  },
  {
   "cell_type": "markdown",
   "id": "634c4b91",
   "metadata": {},
   "source": [
    "Main code for extract audio from user"
   ]
  },
  {
   "cell_type": "code",
   "execution_count": null,
   "id": "e00deda3",
   "metadata": {},
   "outputs": [],
   "source": [
    "audio_buffer = []\n",
    "recording = False\n",
    "\n",
    "def callback(indata,frames,time,status):\n",
    "    if status: #status means if user having troubles with recording his voice\n",
    "        print(status)\n",
    "    if recording:\n",
    "        audio_buffer.append(indata.copy())\n",
    "\n",
    "def toggle_recording():\n",
    "    global recording,audio_buffer\n",
    "    if not recording:\n",
    "        print('Press \\'Enter\\' to stop recording')\n",
    "        recording = True\n",
    "        audio_buffer = [] # we are cleaning our buffer before new start\n",
    "    else:\n",
    "        print('Recording is stopped')\n",
    "        recording = False\n",
    "\n",
    "def record_audio_fragment():\n",
    "    print('Press \\'Enter\\' to start recording')\n",
    "    keyboard.wait('enter')\n",
    "    toggle_recording()\n",
    "    with sd.InputStream(samplerate=FS,channels=CHANNELS,dtype=DTYPE,\n",
    "                        callback=callback,blocksize=BLOCKSIZE):\n",
    "        keyboard.wait('enter')\n",
    "        toggle_recording()\n",
    "    if audio_buffer:\n",
    "        recorded_audio = np.concatenate(audio_buffer,axis=0) \n",
    "        output_dir = r'E:\\recorded_audio' #where our audio is saved\n",
    "        os.makedirs(output_dir,exist_ok=True)\n",
    "        audio_filename = os.path.join(output_dir,'recorded_audio.wav')\n",
    "        wavio.write(audio_filename,recorded_audio,FS,sampwidth=3)\n",
    "        print(f\"Аудио сохранено в '{audio_filename}'\")\n",
    "        return audio_filename\n",
    "    else:\n",
    "        print(\"Ничего не записано.\")\n",
    "        return None\n",
    "\n"
   ]
  }
 ],
 "metadata": {
  "kernelspec": {
   "display_name": ".venv",
   "language": "python",
   "name": "python3"
  },
  "language_info": {
   "name": "python",
   "version": "3.11.0"
  }
 },
 "nbformat": 4,
 "nbformat_minor": 5
}
